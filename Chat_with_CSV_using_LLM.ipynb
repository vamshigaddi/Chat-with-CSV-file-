{
 "cells": [
  {
   "cell_type": "markdown",
   "id": "f3b93e83-962d-4841-b6e5-abd2698ed0f1",
   "metadata": {},
   "source": [
    "#### Chat with CSV file Using GeminiPro LLM"
   ]
  },
  {
   "cell_type": "code",
   "execution_count": 8,
   "id": "3a39b102-59ea-43c2-bffa-ddab0c2922b5",
   "metadata": {},
   "outputs": [
    {
     "name": "stdout",
     "output_type": "stream",
     "text": [
      "(124213, 4)\n",
      "['Inspection ID', 'Inspection date', 'Part detected', 'Vehicle ID']\n"
     ]
    }
   ],
   "source": [
    "import pandas as pd\n",
    "\n",
    "df = pd.read_csv(\"1.csv\")\n",
    "print(df.shape)\n",
    "print(df.columns.tolist())"
   ]
  },
  {
   "cell_type": "code",
   "execution_count": 9,
   "id": "498cd17f-05c6-4135-8379-0997cf746ad8",
   "metadata": {},
   "outputs": [
    {
     "data": {
      "text/plain": [
       "124213"
      ]
     },
     "execution_count": 9,
     "metadata": {},
     "output_type": "execute_result"
    }
   ],
   "source": [
    "from langchain_community.utilities import SQLDatabase\n",
    "from sqlalchemy import create_engine\n",
    "\n",
    "engine = create_engine(\"sqlite:///analysis.db\")\n",
    "df.to_sql(\"analysis\", engine, index=False)"
   ]
  },
  {
   "cell_type": "code",
   "execution_count": 12,
   "id": "ba0cd8c2-6bce-482f-8489-b187901a3f53",
   "metadata": {},
   "outputs": [
    {
     "name": "stdout",
     "output_type": "stream",
     "text": [
      "sqlite\n",
      "['analysis']\n"
     ]
    }
   ],
   "source": [
    "db = SQLDatabase(engine=engine)\n",
    "print(db.dialect)\n",
    "print(db.get_usable_table_names())\n",
    "#db.run(\"SELECT * FROM analysis WHERE Inspection date > 13 Apr 2023;\")"
   ]
  },
  {
   "cell_type": "code",
   "execution_count": 35,
   "id": "cbde55e3-7410-4630-bf68-dd8e04923541",
   "metadata": {},
   "outputs": [],
   "source": [
    "from langchain_community.agent_toolkits import create_sql_agent\n",
    "from langchain_google_genai import ChatGoogleGenerativeAI\n",
    "\n",
    "llm = ChatGoogleGenerativeAI(model=\"gemini-pro\",google_api_key='API_KEY')\n",
    "agent_executor = create_sql_agent(llm, db=db, agent_type='zero-shot-react-description')\n",
    "\n"
   ]
  },
  {
   "cell_type": "code",
   "execution_count": 36,
   "id": "2c9a30d4-4a71-4cba-8488-a5d58d6bcf18",
   "metadata": {},
   "outputs": [
    {
     "data": {
      "text/plain": [
       "{'input': 'what are most top 3 detected parts and their counts ',\n",
       " 'output': \"[('Right front door', 18194), ('Right fender', 16203), ('Front bumper', 16110)]\"}"
      ]
     },
     "execution_count": 36,
     "metadata": {},
     "output_type": "execute_result"
    }
   ],
   "source": [
    "agent_executor.invoke({\"input\": \"what are most top 3 detected parts and their counts \"})"
   ]
  },
  {
   "cell_type": "code",
   "execution_count": null,
   "id": "e3263366-710d-436d-bb7b-1e6d9ebf2384",
   "metadata": {},
   "outputs": [],
   "source": [
    "import pandas as pd\n",
    "from langchain_community.utilities import SQLDatabase\n",
    "from sqlalchemy import create_engine\n",
    "from langchain_community.agent_toolkits import create_sql_agent\n",
    "from langchain_google_genai import ChatGoogleGenerativeAI\n",
    "\n",
    "\n",
    "df = pd.read_csv(\"1.csv\")\n",
    "\n",
    "engine = create_engine(\"sqlite:///analysis.db\")\n",
    "df.to_sql(\"analysis\", engine, index=False)\n",
    "db = SQLDatabase(engine=engine)\n",
    "\n",
    "llm = ChatGoogleGenerativeAI(model=\"gemini-pro\",google_api_key=API_KEY)\n",
    "agent_executor = create_sql_agent(llm, db=db, agent_type='zero-shot-react-description')\n",
    "\n",
    "agent_executor.invoke({\"input\": \"what are most top 3 detected parts and their counts \"})\n"
   ]
  },
  {
   "cell_type": "code",
   "execution_count": 4,
   "id": "b837d943-d5af-42b0-8866-e4cf65788a95",
   "metadata": {},
   "outputs": [
    {
     "name": "stdout",
     "output_type": "stream",
     "text": [
      "Running on local URL:  http://127.0.0.1:7863\n",
      "\n",
      "Could not create share link. Please check your internet connection or our status page: https://status.gradio.app.\n"
     ]
    },
    {
     "data": {
      "text/html": [
       "<div><iframe src=\"http://127.0.0.1:7863/\" width=\"100%\" height=\"500\" allow=\"autoplay; camera; microphone; clipboard-read; clipboard-write;\" frameborder=\"0\" allowfullscreen></iframe></div>"
      ],
      "text/plain": [
       "<IPython.core.display.HTML object>"
      ]
     },
     "metadata": {},
     "output_type": "display_data"
    },
    {
     "data": {
      "text/plain": []
     },
     "execution_count": 4,
     "metadata": {},
     "output_type": "execute_result"
    }
   ],
   "source": [
    "import gradio as gr\n",
    "\n",
    "def greet(name):\n",
    "    return \"Hello \" + name + \"!\"\n",
    "\n",
    "demo = gr.Interface(fn=greet, inputs=\"text\", outputs=\"text\")\n",
    "demo.launch(share=True)   "
   ]
  },
  {
   "cell_type": "code",
   "execution_count": null,
   "id": "b629e9d2-d9b3-4be2-b6bd-bd99c01b7828",
   "metadata": {},
   "outputs": [],
   "source": []
  },
  {
   "cell_type": "code",
   "execution_count": 3,
   "id": "663a4b2e-89fa-4ce5-9582-c8e74ca1b944",
   "metadata": {},
   "outputs": [
    {
     "name": "stdout",
     "output_type": "stream",
     "text": [
      "Running on local URL:  http://127.0.0.1:7862\n",
      "\n",
      "Could not create share link. Please check your internet connection or our status page: https://status.gradio.app.\n"
     ]
    },
    {
     "data": {
      "text/html": [
       "<div><iframe src=\"http://127.0.0.1:7862/\" width=\"100%\" height=\"500\" allow=\"autoplay; camera; microphone; clipboard-read; clipboard-write;\" frameborder=\"0\" allowfullscreen></iframe></div>"
      ],
      "text/plain": [
       "<IPython.core.display.HTML object>"
      ]
     },
     "metadata": {},
     "output_type": "display_data"
    },
    {
     "data": {
      "text/plain": []
     },
     "execution_count": 3,
     "metadata": {},
     "output_type": "execute_result"
    }
   ],
   "source": [
    "import gradio as gr\n",
    "import pandas as pd\n",
    "from langchain_community.utilities import SQLDatabase\n",
    "from sqlalchemy import create_engine\n",
    "from langchain_community.agent_toolkits import create_sql_agent\n",
    "from langchain_google_genai import ChatGoogleGenerativeAI\n",
    "\n",
    "def process_query(csv_file, api_key, user_query):\n",
    "    # Read the CSV file into a DataFrame\n",
    "    df = pd.read_csv(csv_file.name)\n",
    "    \n",
    "    # Create the SQLite database and load the DataFrame into it\n",
    "    engine = create_engine(\"sqlite:///analysis.db\")\n",
    "    df.to_sql(\"analysis\", engine, index=False, if_exists=\"replace\")\n",
    "    db = SQLDatabase(engine=engine)\n",
    "    \n",
    "    # Initialize the Google Generative AI model with the provided API key\n",
    "    llm = ChatGoogleGenerativeAI(model=\"gemini-pro\", google_api_key=api_key)\n",
    "    \n",
    "    # Create the SQL agent\n",
    "    agent_executor = create_sql_agent(llm, db=db, agent_type='zero-shot-react-description')\n",
    "    \n",
    "    # Execute the user's query\n",
    "    result = agent_executor.invoke({\"input\": user_query})\n",
    "    \n",
    "    # Return the result\n",
    "    return result['output']\n",
    "\n",
    "# Create the Gradio interface\n",
    "iface = gr.Interface(\n",
    "    fn=process_query,\n",
    "    inputs=[\n",
    "        gr.File(label=\"Upload your CSV file\"),\n",
    "        gr.Textbox(label=\"Enter your Google Generative AI API key\"),\n",
    "        gr.Textbox(label=\"Enter your query\")\n",
    "    ],\n",
    "    outputs=\"text\",\n",
    "    title=\"Data Analysis with Google Generative AI\",\n",
    "    description=\"Upload a CSV file, provide your Google Generative AI API key, and ask questions about the data.\"\n",
    ")\n",
    "\n",
    "# Launch the app\n",
    "iface.launch(share=True)\n"
   ]
  },
  {
   "cell_type": "code",
   "execution_count": null,
   "id": "73fd1165-bc80-498d-91e6-99cb6ad4221b",
   "metadata": {},
   "outputs": [],
   "source": []
  }
 ],
 "metadata": {
  "kernelspec": {
   "display_name": "Python 3 (ipykernel)",
   "language": "python",
   "name": "python3"
  },
  "language_info": {
   "codemirror_mode": {
    "name": "ipython",
    "version": 3
   },
   "file_extension": ".py",
   "mimetype": "text/x-python",
   "name": "python",
   "nbconvert_exporter": "python",
   "pygments_lexer": "ipython3",
   "version": "3.10.14"
  }
 },
 "nbformat": 4,
 "nbformat_minor": 5
}
